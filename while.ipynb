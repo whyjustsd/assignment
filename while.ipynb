{
  "nbformat": 4,
  "nbformat_minor": 0,
  "metadata": {
    "colab": {
      "provenance": [],
      "authorship_tag": "ABX9TyONWCQWxgTmP9uKJV4VGIcM",
      "include_colab_link": true
    },
    "kernelspec": {
      "name": "python3",
      "display_name": "Python 3"
    },
    "language_info": {
      "name": "python"
    }
  },
  "cells": [
    {
      "cell_type": "markdown",
      "metadata": {
        "id": "view-in-github",
        "colab_type": "text"
      },
      "source": [
        "<a href=\"https://colab.research.google.com/github/whyjustsd/assignment/blob/main/while.ipynb\" target=\"_parent\"><img src=\"https://colab.research.google.com/assets/colab-badge.svg\" alt=\"Open In Colab\"/></a>"
      ]
    },
    {
      "cell_type": "code",
      "source": [
        "n = int(input(\"type the number!\"))\n",
        "sum = 0\n",
        "increase = 1\n",
        "while increase <=n:\n",
        "  sum = sum+increase\n",
        "  increase = increase +1\n",
        "sum\n"
      ],
      "metadata": {
        "colab": {
          "base_uri": "https://localhost:8080/"
        },
        "id": "L7xk_jVeMoU5",
        "outputId": "0d97838a-335e-466d-bc27-e551e816dc89"
      },
      "execution_count": 2,
      "outputs": [
        {
          "name": "stdout",
          "output_type": "stream",
          "text": [
            "type the number!5\n"
          ]
        },
        {
          "output_type": "execute_result",
          "data": {
            "text/plain": [
              "15"
            ]
          },
          "metadata": {},
          "execution_count": 2
        }
      ]
    },
    {
      "cell_type": "code",
      "source": [
        "n= int(input(\"enter the number\"))\n",
        "mul = 1\n",
        "while n>0:\n",
        "  mul = mul*n\n",
        "  n = n-1\n",
        "mul\n"
      ],
      "metadata": {
        "colab": {
          "base_uri": "https://localhost:8080/"
        },
        "id": "JZ0zOuwbNYvK",
        "outputId": "8198fd69-9fc1-4e06-b5e1-cfee6a4949b0"
      },
      "execution_count": 4,
      "outputs": [
        {
          "name": "stdout",
          "output_type": "stream",
          "text": [
            "enter the number5\n"
          ]
        },
        {
          "output_type": "execute_result",
          "data": {
            "text/plain": [
              "120"
            ]
          },
          "metadata": {},
          "execution_count": 4
        }
      ]
    },
    {
      "cell_type": "code",
      "source": [
        "n = int(input(\"enter the number\"))\n",
        "start = 0\n",
        "a,b = 0,1\n",
        "while start<=n:\n",
        "  print(a)\n",
        "  c = a+b\n",
        "  a = b\n",
        "  b = c\n",
        "  start = start+1\n"
      ],
      "metadata": {
        "colab": {
          "base_uri": "https://localhost:8080/"
        },
        "id": "rF1GQEeqPDbA",
        "outputId": "15b91ffd-1e6d-42d7-a1a3-513bddf20f18"
      },
      "execution_count": 5,
      "outputs": [
        {
          "output_type": "stream",
          "name": "stdout",
          "text": [
            "enter the number6\n",
            "0\n",
            "1\n",
            "1\n",
            "2\n",
            "3\n",
            "5\n",
            "8\n"
          ]
        }
      ]
    },
    {
      "cell_type": "code",
      "source": [
        "word = input(\"enter your word: \")\n"
      ],
      "metadata": {
        "colab": {
          "base_uri": "https://localhost:8080/"
        },
        "id": "tjhp3OShSpSV",
        "outputId": "a5a03965-3ca4-47a3-db58-769fe61cd558"
      },
      "execution_count": 6,
      "outputs": [
        {
          "name": "stdout",
          "output_type": "stream",
          "text": [
            "enter your word: sudh\n"
          ]
        }
      ]
    },
    {
      "cell_type": "code",
      "source": [
        "word = input(\"enter your word\")\n",
        "reverse = \"\"\n",
        "length = len(word)\n",
        "while length>0:\n",
        "  reverse = reverse + word[length-1]\n",
        "  length = length-1\n",
        "print(reverse)\n",
        "\n"
      ],
      "metadata": {
        "colab": {
          "base_uri": "https://localhost:8080/"
        },
        "id": "BAbufRvCVEFE",
        "outputId": "8d0f2f28-7eb1-42ce-c00c-5662b72d9d5f"
      },
      "execution_count": 11,
      "outputs": [
        {
          "output_type": "stream",
          "name": "stdout",
          "text": [
            "enter your wordsayan\n",
            "nayas\n"
          ]
        }
      ]
    },
    {
      "cell_type": "code",
      "source": [
        "n = int (input(\"enter the number of table = \"))\n",
        "i = 1\n",
        "while i<=10:\n",
        "  result = n*i\n",
        "  print(n,\"*\",i,\"=\", result)\n",
        "  i = i +1\n",
        "  \n",
        "\n",
        "\n"
      ],
      "metadata": {
        "colab": {
          "base_uri": "https://localhost:8080/"
        },
        "id": "LPdXEWr7WJIC",
        "outputId": "736f8a06-cedc-4f3f-a613-ed654d5e02f2"
      },
      "execution_count": 21,
      "outputs": [
        {
          "output_type": "stream",
          "name": "stdout",
          "text": [
            "enter the number of table = 5\n",
            "5 * 1 = 5\n",
            "5 * 2 = 10\n",
            "5 * 3 = 15\n",
            "5 * 4 = 20\n",
            "5 * 5 = 25\n",
            "5 * 6 = 30\n",
            "5 * 7 = 35\n",
            "5 * 8 = 40\n",
            "5 * 9 = 45\n",
            "5 * 10 = 50\n"
          ]
        }
      ]
    },
    {
      "cell_type": "code",
      "source": [],
      "metadata": {
        "id": "TKHEVej4ZsTV"
      },
      "execution_count": 17,
      "outputs": []
    }
  ]
}