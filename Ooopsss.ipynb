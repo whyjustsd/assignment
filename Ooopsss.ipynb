{
  "nbformat": 4,
  "nbformat_minor": 0,
  "metadata": {
    "colab": {
      "provenance": []
    },
    "kernelspec": {
      "name": "python3",
      "display_name": "Python 3"
    },
    "language_info": {
      "name": "python"
    }
  },
  "cells": [
    {
      "cell_type": "code",
      "execution_count": null,
      "metadata": {
        "id": "kCat21pCHZHy"
      },
      "outputs": [],
      "source": [
        "class pwskills:\n",
        "  def welcome_msg(self):\n",
        "    print(\"welcome to pwskills\")\n",
        "    \n"
      ]
    },
    {
      "cell_type": "code",
      "source": [
        "rohan = pwskills()"
      ],
      "metadata": {
        "id": "B3osz33kJZaD"
      },
      "execution_count": null,
      "outputs": []
    },
    {
      "cell_type": "code",
      "source": [
        "rohan.welcome_msg()"
      ],
      "metadata": {
        "colab": {
          "base_uri": "https://localhost:8080/"
        },
        "id": "AODhFjO4Jeqs",
        "outputId": "42bb155e-e405-4165-d330-0dc63c606043"
      },
      "execution_count": null,
      "outputs": [
        {
          "output_type": "stream",
          "name": "stdout",
          "text": [
            "welcome to pwskills\n"
          ]
        }
      ]
    },
    {
      "cell_type": "code",
      "source": [
        "class pwskills1:\n",
        "  def __init__(self, roll,gmail,number):\n",
        "    self.roll1 = roll\n",
        "    self.gmail1 =gmail\n",
        "    self.number1 = number\n",
        "\n",
        "  def return_student_details(self):\n",
        "    return self.roll1, self.gmail1, self.number1\n"
      ],
      "metadata": {
        "id": "r41KEcb6Lwsh"
      },
      "execution_count": null,
      "outputs": []
    },
    {
      "cell_type": "code",
      "source": [
        "sayann = pwskills1(273,\"gfhdjs\",45667)"
      ],
      "metadata": {
        "id": "QORlyfUJN7-D"
      },
      "execution_count": null,
      "outputs": []
    },
    {
      "cell_type": "code",
      "source": [
        "sayann.return_student_details()"
      ],
      "metadata": {
        "colab": {
          "base_uri": "https://localhost:8080/"
        },
        "id": "YwSwvw6XOY8E",
        "outputId": "322cfd06-80cd-4f3e-a816-d25ae59a9673"
      },
      "execution_count": null,
      "outputs": [
        {
          "output_type": "execute_result",
          "data": {
            "text/plain": [
              "(273, 'gfhdjs', 45667)"
            ]
          },
          "metadata": {},
          "execution_count": 23
        }
      ]
    },
    {
      "cell_type": "code",
      "source": [
        "sayann.roll1"
      ],
      "metadata": {
        "colab": {
          "base_uri": "https://localhost:8080/"
        },
        "id": "lX6nc-VnP8Sr",
        "outputId": "80346bdc-6f3d-495f-fb73-be298989b98a"
      },
      "execution_count": null,
      "outputs": [
        {
          "output_type": "execute_result",
          "data": {
            "text/plain": [
              "273"
            ]
          },
          "metadata": {},
          "execution_count": 24
        }
      ]
    },
    {
      "cell_type": "code",
      "source": [
        "class data_scince:\n",
        "  def syllabus(self):\n",
        "    print(\"this is syllabus of data scince\")"
      ],
      "metadata": {
        "id": "02WxUrl1ZD27"
      },
      "execution_count": null,
      "outputs": []
    },
    {
      "cell_type": "code",
      "source": [
        "class web_dev:\n",
        "  def syllabus(self):\n",
        "    print(\"this is syllabus of web development\")"
      ],
      "metadata": {
        "id": "sPy8iiRNZV_L"
      },
      "execution_count": null,
      "outputs": []
    },
    {
      "cell_type": "code",
      "source": [
        "def class_parcer(class_obj):\n",
        "  for i in class_obj:\n",
        "    i.syllabus()\n"
      ],
      "metadata": {
        "id": "_peMlDVoZXz8"
      },
      "execution_count": null,
      "outputs": []
    },
    {
      "cell_type": "code",
      "source": [
        "data_scince = data_scince()"
      ],
      "metadata": {
        "id": "66ElXLxOZPhH"
      },
      "execution_count": null,
      "outputs": []
    },
    {
      "cell_type": "code",
      "source": [
        "web_dev= web_dev()"
      ],
      "metadata": {
        "id": "s_fMq0ziah8j"
      },
      "execution_count": null,
      "outputs": []
    },
    {
      "cell_type": "code",
      "source": [
        "class_obj = [data_scince,web_dev]"
      ],
      "metadata": {
        "id": "0Wjlk7G2amRM"
      },
      "execution_count": null,
      "outputs": []
    },
    {
      "cell_type": "code",
      "source": [
        "class_parcer(class_obj)"
      ],
      "metadata": {
        "colab": {
          "base_uri": "https://localhost:8080/"
        },
        "id": "F49mpBxObrwK",
        "outputId": "257213a1-0485-4683-e6dd-26b39379e043"
      },
      "execution_count": null,
      "outputs": [
        {
          "output_type": "stream",
          "name": "stdout",
          "text": [
            "this is syllabus of data scince\n",
            "this is syllabus of web development\n"
          ]
        }
      ]
    },
    {
      "cell_type": "code",
      "source": [
        "class car:\n",
        "  def __init__(self,model, number,speed):\n",
        "    self.__model = model\n",
        "    self.__number = number\n",
        "    self.__speed = 0\n",
        "    "
      ],
      "metadata": {
        "id": "GXwjNiP5hSWZ"
      },
      "execution_count": null,
      "outputs": []
    },
    {
      "cell_type": "code",
      "source": [
        "c = car(\"hundai\", 56789,34)"
      ],
      "metadata": {
        "id": "BCtAorv6h8M8"
      },
      "execution_count": null,
      "outputs": []
    },
    {
      "cell_type": "code",
      "source": [
        "c._car__model"
      ],
      "metadata": {
        "colab": {
          "base_uri": "https://localhost:8080/",
          "height": 35
        },
        "id": "yHZ_6zkciJZM",
        "outputId": "4e62cf1c-0e29-4790-83e5-524a1acdfde0"
      },
      "execution_count": null,
      "outputs": [
        {
          "output_type": "execute_result",
          "data": {
            "text/plain": [
              "'hundai'"
            ],
            "application/vnd.google.colaboratory.intrinsic+json": {
              "type": "string"
            }
          },
          "metadata": {},
          "execution_count": 45
        }
      ]
    },
    {
      "cell_type": "code",
      "source": [
        "\n",
        "class bank_account : \n",
        "    def __init__(self , balance) : \n",
        "        self.__balanace = balance \n",
        "        \n",
        "    def deposit(self , amount) : \n",
        "        self.__balanace = self.__balanace + amount\n",
        "        \n",
        "    def withdaw(self ,amount) : \n",
        "        if self.__balanace >= amount :\n",
        "            self.__balanace = self.__balanace - amount\n",
        "            return True\n",
        "        else : \n",
        "            return False\n",
        "    \n",
        "    def get_banalnce(self):\n",
        "        return self.__balanace"
      ],
      "metadata": {
        "id": "1s8iUpNGmSzL"
      },
      "execution_count": null,
      "outputs": []
    },
    {
      "cell_type": "code",
      "source": [
        "sd = bank_account(1000)"
      ],
      "metadata": {
        "id": "6-rOeGEVpZ8V"
      },
      "execution_count": null,
      "outputs": []
    },
    {
      "cell_type": "code",
      "source": [
        "sd.get_banalnce()"
      ],
      "metadata": {
        "colab": {
          "base_uri": "https://localhost:8080/"
        },
        "id": "EmCj6OTUq7Sm",
        "outputId": "a557137d-f8f0-4e6a-d6e1-34bd38bb0c78"
      },
      "execution_count": null,
      "outputs": [
        {
          "output_type": "execute_result",
          "data": {
            "text/plain": [
              "1000"
            ]
          },
          "metadata": {},
          "execution_count": 60
        }
      ]
    },
    {
      "cell_type": "code",
      "source": [
        "sd.deposit(5000)"
      ],
      "metadata": {
        "id": "9TRMT79irA0K"
      },
      "execution_count": null,
      "outputs": []
    },
    {
      "cell_type": "code",
      "source": [
        "sd.get_banalnce()"
      ],
      "metadata": {
        "colab": {
          "base_uri": "https://localhost:8080/"
        },
        "id": "dtW7pEStrIhd",
        "outputId": "7cff7e5f-9935-4249-b01d-642337eb1a7c"
      },
      "execution_count": null,
      "outputs": [
        {
          "output_type": "execute_result",
          "data": {
            "text/plain": [
              "6000"
            ]
          },
          "metadata": {},
          "execution_count": 62
        }
      ]
    },
    {
      "cell_type": "code",
      "source": [
        "sd.withdaw(4500)"
      ],
      "metadata": {
        "colab": {
          "base_uri": "https://localhost:8080/"
        },
        "id": "j4S8G12FrL_s",
        "outputId": "eff998d7-3536-4bb8-f5a3-e758b86a62c9"
      },
      "execution_count": null,
      "outputs": [
        {
          "output_type": "execute_result",
          "data": {
            "text/plain": [
              "True"
            ]
          },
          "metadata": {},
          "execution_count": 63
        }
      ]
    },
    {
      "cell_type": "code",
      "source": [
        "sd.get_banalnce()"
      ],
      "metadata": {
        "colab": {
          "base_uri": "https://localhost:8080/"
        },
        "id": "7vp2U5H7rRqs",
        "outputId": "f7d68d9b-13b1-4bbe-b57f-2ffd8310c0b8"
      },
      "execution_count": null,
      "outputs": [
        {
          "output_type": "execute_result",
          "data": {
            "text/plain": [
              "1500"
            ]
          },
          "metadata": {},
          "execution_count": 64
        }
      ]
    },
    {
      "cell_type": "code",
      "source": [
        "class inher():\n",
        "  def test1(self):\n",
        "    return \"this is my inheritence\""
      ],
      "metadata": {
        "id": "yAalZITsy-xS"
      },
      "execution_count": null,
      "outputs": []
    },
    {
      "cell_type": "code",
      "source": [
        "class test2(inher):\n",
        "  pass"
      ],
      "metadata": {
        "id": "N2pIri_lzZYv"
      },
      "execution_count": null,
      "outputs": []
    },
    {
      "cell_type": "code",
      "source": [
        "test2obj = test2()"
      ],
      "metadata": {
        "id": "BIi3MHeAzlb3"
      },
      "execution_count": null,
      "outputs": []
    },
    {
      "cell_type": "code",
      "source": [
        "test2obj.test1()"
      ],
      "metadata": {
        "colab": {
          "base_uri": "https://localhost:8080/",
          "height": 35
        },
        "id": "hEYl1j0gz6YS",
        "outputId": "488e24ba-7880-4c89-f05a-f5f7e8235a03"
      },
      "execution_count": null,
      "outputs": [
        {
          "output_type": "execute_result",
          "data": {
            "text/plain": [
              "'this is my inheritence'"
            ],
            "application/vnd.google.colaboratory.intrinsic+json": {
              "type": "string"
            }
          },
          "metadata": {},
          "execution_count": 69
        }
      ]
    },
    {
      "cell_type": "code",
      "source": [
        "class class1:\n",
        "  def test_class1(self):\n",
        "    return\"this is my first class\""
      ],
      "metadata": {
        "id": "B1r6rgPX1iIG"
      },
      "execution_count": null,
      "outputs": []
    },
    {
      "cell_type": "code",
      "source": [
        "class class2(class1):\n",
        "  def test_class2(self):\n",
        "    return\"this is my second class\""
      ],
      "metadata": {
        "id": "Tv12EWEF165c"
      },
      "execution_count": null,
      "outputs": []
    },
    {
      "cell_type": "code",
      "source": [
        "class class3(class2):\n",
        "  pass"
      ],
      "metadata": {
        "id": "GaEPBqAu2IL_"
      },
      "execution_count": null,
      "outputs": []
    },
    {
      "cell_type": "code",
      "source": [
        "obj_class3 = class3()"
      ],
      "metadata": {
        "id": "SZ-PgAnY2V9O"
      },
      "execution_count": null,
      "outputs": []
    },
    {
      "cell_type": "code",
      "source": [
        "obj_class3.test_class2()"
      ],
      "metadata": {
        "colab": {
          "base_uri": "https://localhost:8080/",
          "height": 35
        },
        "id": "IKai2IxS2npo",
        "outputId": "a858142f-5d1e-45a7-a1a8-60ff0379d27d"
      },
      "execution_count": null,
      "outputs": [
        {
          "output_type": "execute_result",
          "data": {
            "text/plain": [
              "'this is my second class'"
            ],
            "application/vnd.google.colaboratory.intrinsic+json": {
              "type": "string"
            }
          },
          "metadata": {},
          "execution_count": 76
        }
      ]
    },
    {
      "cell_type": "code",
      "source": [
        "import abc\n",
        "class sdskills:\n",
        "  @abc.abstractmethod\n",
        "  def student(self):\n",
        "    pass\n",
        "  @abc.abstractmethod\n",
        "  def stdassgintment(self):\n",
        "    pass\n"
      ],
      "metadata": {
        "id": "okfbhscX4r8O"
      },
      "execution_count": null,
      "outputs": []
    },
    {
      "cell_type": "code",
      "source": [
        "class nob(sdskills):\n",
        "  def student(self):\n",
        "    return \"this is abstract\""
      ],
      "metadata": {
        "id": "cB_jocI15VQA"
      },
      "execution_count": null,
      "outputs": []
    }
  ]
}