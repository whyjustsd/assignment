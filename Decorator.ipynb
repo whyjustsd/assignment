{
  "nbformat": 4,
  "nbformat_minor": 0,
  "metadata": {
    "colab": {
      "provenance": []
    },
    "kernelspec": {
      "name": "python3",
      "display_name": "Python 3"
    },
    "language_info": {
      "name": "python"
    }
  },
  "cells": [
    {
      "cell_type": "code",
      "execution_count": 8,
      "metadata": {
        "id": "Db2n0LoekAPh"
      },
      "outputs": [],
      "source": [
        "def deco(func):\n",
        "  def inner_dec():\n",
        "      print(\"this is the start of our func\")\n",
        "      func()\n",
        "      print(\"this is the end of our func\")\n",
        "  return inner_dec\n",
        "    "
      ]
    },
    {
      "cell_type": "code",
      "source": [
        "@deco\n",
        "def test1():\n",
        "  print(6+7)"
      ],
      "metadata": {
        "id": "DicZl8hUmCUm"
      },
      "execution_count": 9,
      "outputs": []
    },
    {
      "cell_type": "code",
      "source": [
        "test1()"
      ],
      "metadata": {
        "colab": {
          "base_uri": "https://localhost:8080/"
        },
        "id": "k6Al78PxmRG_",
        "outputId": "43242cab-8d8c-4e3c-f1d2-5c79c3852153"
      },
      "execution_count": 10,
      "outputs": [
        {
          "output_type": "stream",
          "name": "stdout",
          "text": [
            "this is the start of our func\n",
            "13\n",
            "this is the end of our func\n"
          ]
        }
      ]
    },
    {
      "cell_type": "code",
      "source": [
        "import time\n",
        "\n",
        "def timer_test(func):\n",
        "  def timer_test_inner():\n",
        "      start = time.time()\n",
        "      func()\n",
        "      end = time.time()\n",
        "      print(end-start)\n",
        "  return timer_test_inner\n"
      ],
      "metadata": {
        "id": "DlJA_LIFnGLJ"
      },
      "execution_count": 15,
      "outputs": []
    },
    {
      "cell_type": "code",
      "source": [
        "@timer_test\n",
        "def test2():\n",
        "  print(45+78)"
      ],
      "metadata": {
        "id": "pxYozszloLc9"
      },
      "execution_count": 16,
      "outputs": []
    },
    {
      "cell_type": "code",
      "source": [
        "test2()"
      ],
      "metadata": {
        "colab": {
          "base_uri": "https://localhost:8080/"
        },
        "id": "BoZ8mKY7oXNN",
        "outputId": "709f4c1a-7941-4ab4-f4ba-b8ce1059dca2"
      },
      "execution_count": 17,
      "outputs": [
        {
          "output_type": "stream",
          "name": "stdout",
          "text": [
            "123\n",
            "0.0008318424224853516\n"
          ]
        }
      ]
    }
  ]
}