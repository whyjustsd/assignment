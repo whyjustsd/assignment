{
  "nbformat": 4,
  "nbformat_minor": 0,
  "metadata": {
    "colab": {
      "provenance": [],
      "authorship_tag": "ABX9TyNoKOYrdbwvx4v5xdJDGob5",
      "include_colab_link": true
    },
    "kernelspec": {
      "name": "python3",
      "display_name": "Python 3"
    },
    "language_info": {
      "name": "python"
    }
  },
  "cells": [
    {
      "cell_type": "markdown",
      "metadata": {
        "id": "view-in-github",
        "colab_type": "text"
      },
      "source": [
        "<a href=\"https://colab.research.google.com/github/whyjustsd/assignment/blob/main/Apiassgn.ipynb\" target=\"_parent\"><img src=\"https://colab.research.google.com/assets/colab-badge.svg\" alt=\"Open In Colab\"/></a>"
      ]
    },
    {
      "cell_type": "code",
      "execution_count": null,
      "metadata": {
        "id": "0887qC3-xeEG"
      },
      "outputs": [],
      "source": [
        "'''1.What is an API? Give an example, where an API is used in real life.\n",
        "ans.APIs are used in web applications to connect user-facing front ends with \n",
        "critical back-end functionality and data. APIs are used to deliver\n",
        "material by streaming services such as Spotify and Netflix. APIs are used by \n",
        "automakers such as Tesla to provide software upgrades.\n",
        "\n",
        "2.Give advantages and disadvantages of using API.\n",
        "ans. What are the advantages using API?\n",
        "Efficiency: When you have content that is automatically published and made \n",
        "available on different channels simultaneously, APIs allow for more efficient \n",
        "data distribution.\n",
        " Adaptability: One of the greatest benefits of APIs is the ability it has to \n",
        " adapt to changes through data migration and flexibility of services.\n",
        "\n",
        "3.What is a Web API? Differentiate between API and Web API.\n",
        "ans.The ASP.NET Web API is an extensible framework for building HTTP based\n",
        " services that can be accessed in different applications on different platforms \n",
        "4.Explain REST and SOAP Architecture. Mention shortcomings of SOAP.\n",
        "SOAP cannot use REST because SOAP is a protocol and REST has an architectural\n",
        " style. REST can use SOAP as a protocol for web services. SOAP uses WSDL to\n",
        "expose supported methods and technical details. REST exposes methods through \n",
        "URIs, there are no technical details.\n",
        "5.Differentiate between REST and SOAP.\n",
        "Representational state transfer (REST) is a set of architectural principles. \n",
        "Simple object access protocol (SOAP) is an official protocol maintained by the \n",
        "World Wide Web Consortium (W3C). The main difference is that SOAP is a protocol\n",
        " while REST is not."
      ]
    }
  ]
}